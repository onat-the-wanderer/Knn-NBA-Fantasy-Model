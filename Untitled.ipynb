{
 "cells": [
  {
   "cell_type": "code",
   "execution_count": 10,
   "id": "661d9a5a",
   "metadata": {},
   "outputs": [],
   "source": [
    "import pandas as pd \n",
    "import numpy as np\n",
    "import matplotlib.pyplot as plt"
   ]
  },
  {
   "cell_type": "code",
   "execution_count": 11,
   "id": "893de66b",
   "metadata": {},
   "outputs": [],
   "source": [
    " df_ps=pd.read_csv('/Users/onat/Desktop/Knn-NBA-Fantasy-Model/archive/2022-2023 NBA Player Stats - Regular.csv', header=0)\n"
   ]
  },
  {
   "cell_type": "code",
   "execution_count": 12,
   "id": "3249087c",
   "metadata": {},
   "outputs": [],
   "source": [
    " df_ps[['Rk','Player','Pos','Age','Tm','G','GS','MP','FG','FGA','FG%','3P','3PA','3P%','2P','2PA','2P%','eFG%','FT','FTA','FT%','ORB','DRB','TRB','AST','STL','BLK','TOV','PF','PTS']]=df_ps[\"Rk;Player;Pos;Age;Tm;G;GS;MP;FG;FGA;FG%;3P;3PA;3P%;2P;2PA;2P%;eFG%;FT;FTA;FT%;ORB;DRB;TRB;AST;STL;BLK;TOV;PF;PTS\"].str.split(';',expand=True)"
   ]
  },
  {
   "cell_type": "code",
   "execution_count": 13,
   "id": "8edd9ea2",
   "metadata": {},
   "outputs": [],
   "source": [
    " df_ps = df_ps.drop(columns=[\"Rk;Player;Pos;Age;Tm;G;GS;MP;FG;FGA;FG%;3P;3PA;3P%;2P;2PA;2P%;eFG%;FT;FTA;FT%;ORB;DRB;TRB;AST;STL;BLK;TOV;PF;PTS\",\"Rk\"],axis=1, inplace=False)"
   ]
  },
  {
   "cell_type": "code",
   "execution_count": 14,
   "id": "fd8b3def",
   "metadata": {},
   "outputs": [],
   "source": [
    "df_ps_w=pd.read_csv('/Users/onat/Desktop/Knn-NBA-Fantasy-Model/archive/NBA player status fro 2003-2023.csv',encoding='mac_roman')"
   ]
  },
  {
   "cell_type": "code",
   "execution_count": 15,
   "id": "495cb062",
   "metadata": {},
   "outputs": [],
   "source": [
    "df_ps_cleaned = df_ps.dropna(how=\"all\")"
   ]
  },
  {
   "cell_type": "code",
   "execution_count": 16,
   "id": "10ec74ee",
   "metadata": {},
   "outputs": [],
   "source": [
    "df_ps_w_cleaned = df_ps_w.dropna(how=\"all\")"
   ]
  },
  {
   "cell_type": "code",
   "execution_count": 17,
   "id": "c483e653",
   "metadata": {},
   "outputs": [],
   "source": [
    "df_ps_cleaned[['Age','G','GS','MP','FG','FGA','FG%','3P','3PA','3P%','2P','2PA','2P%','eFG%','FT','FTA','FT%','ORB','DRB','TRB','AST','STL','BLK','TOV','PF','PTS']] = df_ps_cleaned[['Age','G','GS','MP','FG','FGA','FG%','3P','3PA','3P%','2P','2PA','2P%','eFG%','FT','FTA','FT%','ORB','DRB','TRB','AST','STL','BLK','TOV','PF','PTS']].astype(float)"
   ]
  },
  {
   "cell_type": "code",
   "execution_count": 18,
   "id": "f7b28383",
   "metadata": {
    "scrolled": true
   },
   "outputs": [
    {
     "data": {
      "text/plain": [
       "count    679.000000\n",
       "mean      43.338733\n",
       "std       24.727306\n",
       "min        1.000000\n",
       "25%       22.000000\n",
       "50%       45.000000\n",
       "75%       65.500000\n",
       "max       83.000000\n",
       "Name: G, dtype: float64"
      ]
     },
     "execution_count": 18,
     "metadata": {},
     "output_type": "execute_result"
    }
   ],
   "source": [
    "df_ps_cleaned['G'].describe()"
   ]
  },
  {
   "cell_type": "code",
   "execution_count": 19,
   "id": "f6c64d63",
   "metadata": {},
   "outputs": [
    {
     "data": {
      "text/plain": [
       "count    2376.000000\n",
       "mean        9.294613\n",
       "std        11.112549\n",
       "min         1.000000\n",
       "25%         2.000000\n",
       "50%         4.000000\n",
       "75%        14.000000\n",
       "max        44.000000\n",
       "Name: G, dtype: float64"
      ]
     },
     "execution_count": 19,
     "metadata": {},
     "output_type": "execute_result"
    }
   ],
   "source": [
    "df_ps_w_cleaned['G'].describe()"
   ]
  },
  {
   "cell_type": "code",
   "execution_count": 20,
   "id": "30696b5d",
   "metadata": {},
   "outputs": [],
   "source": [
    "min_g_ps = df_ps_cleaned['G'].mean()-(df_ps_cleaned['G'].std() * 3)"
   ]
  },
  {
   "cell_type": "code",
   "execution_count": 22,
   "id": "9619aeea",
   "metadata": {},
   "outputs": [],
   "source": [
    "min_g_w = df_ps_w_cleaned['G'].mean()-(df_ps_w_cleaned['G'].std() * 3)"
   ]
  },
  {
   "cell_type": "code",
   "execution_count": 24,
   "id": "14fa10c6",
   "metadata": {
    "scrolled": true
   },
   "outputs": [
    {
     "data": {
      "text/plain": [
       "<Axes: >"
      ]
     },
     "execution_count": 24,
     "metadata": {},
     "output_type": "execute_result"
    },
    {
     "data": {
      "image/png": "[encoded data removed]",
      "text/plain": [
       "<Figure size 1008x432 with 1 Axes>"
      ]
     },
     "metadata": {
      "needs_background": "light"
     },
     "output_type": "display_data"
    }
   ],
   "source": [
    "bin_values = np.arange(start=0, stop=82, step=2)\n",
    "df_ps_cleaned['G'].hist(bins=bin_values, figsize=[14,6])"
   ]
  },
  {
   "cell_type": "code",
   "execution_count": 25,
   "id": "af7134b9",
   "metadata": {},
   "outputs": [
    {
     "data": {
      "text/plain": [
       "<Axes: >"
      ]
     },
     "execution_count": 25,
     "metadata": {},
     "output_type": "execute_result"
    },
    {
     "data": {
      "image/png": "[encoded data removed]",
      "text/plain": [
       "<Figure size 1008x432 with 1 Axes>"
      ]
     },
     "metadata": {
      "needs_background": "light"
     },
     "output_type": "display_data"
    }
   ],
   "source": [
    "df_ps_w_cleaned['G'].hist(bins=bin_values, figsize=[14,6])"
   ]
  },
  {
   "cell_type": "code",
   "execution_count": 26,
   "id": "49b6912d",
   "metadata": {},
   "outputs": [],
   "source": [
    "min_gp = 82\n",
    "df_w_filter = df_ps_w_cleaned[df_ps_w_cleaned['G'] > min_gp]"
   ]
  },
  {
   "cell_type": "code",
   "execution_count": 28,
   "id": "67f6646b",
   "metadata": {},
   "outputs": [
    {
     "data": {
      "text/html": [
       "<div>\n",
       "<style scoped>\n",
       "    .dataframe tbody tr th:only-of-type {\n",
       "        vertical-align: middle;\n",
       "    }\n",
       "\n",
       "    .dataframe tbody tr th {\n",
       "        vertical-align: top;\n",
       "    }\n",
       "\n",
       "    .dataframe thead th {\n",
       "        text-align: right;\n",
       "    }\n",
       "</style>\n",
       "<table border=\"1\" class=\"dataframe\">\n",
       "  <thead>\n",
       "    <tr style=\"text-align: right;\">\n",
       "      <th></th>\n",
       "      <th>Player</th>\n",
       "      <th>Tm</th>\n",
       "      <th>Age</th>\n",
       "      <th>G</th>\n",
       "      <th>GS</th>\n",
       "      <th>MP</th>\n",
       "      <th>FG</th>\n",
       "      <th>FGA</th>\n",
       "      <th>FG%</th>\n",
       "      <th>3P</th>\n",
       "      <th>...</th>\n",
       "      <th>ORB</th>\n",
       "      <th>DRB</th>\n",
       "      <th>TRB</th>\n",
       "      <th>AST</th>\n",
       "      <th>STL</th>\n",
       "      <th>BLK</th>\n",
       "      <th>TOV</th>\n",
       "      <th>PF</th>\n",
       "      <th>PTS</th>\n",
       "      <th>Unnamed: 28</th>\n",
       "    </tr>\n",
       "  </thead>\n",
       "  <tbody>\n",
       "  </tbody>\n",
       "</table>\n",
       "<p>0 rows × 29 columns</p>\n",
       "</div>"
      ],
      "text/plain": [
       "Empty DataFrame\n",
       "Columns: [Player, Tm, Age, G, GS, MP, FG, FGA, FG%, 3P, 3PA, 3P%, 2P, 2PA, 2P%, eFG%, FT, FTA, FT%, ORB, DRB, TRB, AST, STL, BLK, TOV, PF, PTS, Unnamed: 28]\n",
       "Index: []\n",
       "\n",
       "[0 rows x 29 columns]"
      ]
     },
     "execution_count": 28,
     "metadata": {},
     "output_type": "execute_result"
    }
   ],
   "source": [
    "df_w_filter"
   ]
  },
  {
   "cell_type": "code",
   "execution_count": 29,
   "id": "242021a6",
   "metadata": {},
   "outputs": [
    {
     "data": {
      "text/html": [
       "<div>\n",
       "<style scoped>\n",
       "    .dataframe tbody tr th:only-of-type {\n",
       "        vertical-align: middle;\n",
       "    }\n",
       "\n",
       "    .dataframe tbody tr th {\n",
       "        vertical-align: top;\n",
       "    }\n",
       "\n",
       "    .dataframe thead th {\n",
       "        text-align: right;\n",
       "    }\n",
       "</style>\n",
       "<table border=\"1\" class=\"dataframe\">\n",
       "  <thead>\n",
       "    <tr style=\"text-align: right;\">\n",
       "      <th></th>\n",
       "      <th>Player</th>\n",
       "      <th>Tm</th>\n",
       "      <th>Age</th>\n",
       "      <th>G</th>\n",
       "      <th>GS</th>\n",
       "      <th>MP</th>\n",
       "      <th>FG</th>\n",
       "      <th>FGA</th>\n",
       "      <th>FG%</th>\n",
       "      <th>3P</th>\n",
       "      <th>...</th>\n",
       "      <th>ORB</th>\n",
       "      <th>DRB</th>\n",
       "      <th>TRB</th>\n",
       "      <th>AST</th>\n",
       "      <th>STL</th>\n",
       "      <th>BLK</th>\n",
       "      <th>TOV</th>\n",
       "      <th>PF</th>\n",
       "      <th>PTS</th>\n",
       "      <th>Unnamed: 28</th>\n",
       "    </tr>\n",
       "  </thead>\n",
       "  <tbody>\n",
       "    <tr>\n",
       "      <th>0</th>\n",
       "      <td>Efe Abogidi</td>\n",
       "      <td>GLI</td>\n",
       "      <td>28.0</td>\n",
       "      <td>4</td>\n",
       "      <td>0</td>\n",
       "      <td>48</td>\n",
       "      <td>6</td>\n",
       "      <td>14</td>\n",
       "      <td>0.429</td>\n",
       "      <td>0</td>\n",
       "      <td>...</td>\n",
       "      <td>3</td>\n",
       "      <td>10</td>\n",
       "      <td>13</td>\n",
       "      <td>4</td>\n",
       "      <td>0</td>\n",
       "      <td>0</td>\n",
       "      <td>3</td>\n",
       "      <td>10</td>\n",
       "      <td>12</td>\n",
       "      <td>NaN</td>\n",
       "    </tr>\n",
       "    <tr>\n",
       "      <th>1</th>\n",
       "      <td>Jalen Adaway</td>\n",
       "      <td>AUS</td>\n",
       "      <td>27.0</td>\n",
       "      <td>11</td>\n",
       "      <td>2</td>\n",
       "      <td>234</td>\n",
       "      <td>26</td>\n",
       "      <td>61</td>\n",
       "      <td>0.426</td>\n",
       "      <td>7</td>\n",
       "      <td>...</td>\n",
       "      <td>7</td>\n",
       "      <td>16</td>\n",
       "      <td>23</td>\n",
       "      <td>11</td>\n",
       "      <td>4</td>\n",
       "      <td>4</td>\n",
       "      <td>3</td>\n",
       "      <td>16</td>\n",
       "      <td>63</td>\n",
       "      <td>NaN</td>\n",
       "    </tr>\n",
       "    <tr>\n",
       "      <th>2</th>\n",
       "      <td>James Akinjo</td>\n",
       "      <td>WES</td>\n",
       "      <td>31.0</td>\n",
       "      <td>15</td>\n",
       "      <td>5</td>\n",
       "      <td>448</td>\n",
       "      <td>90</td>\n",
       "      <td>195</td>\n",
       "      <td>0.462</td>\n",
       "      <td>28</td>\n",
       "      <td>...</td>\n",
       "      <td>4</td>\n",
       "      <td>46</td>\n",
       "      <td>50</td>\n",
       "      <td>101</td>\n",
       "      <td>20</td>\n",
       "      <td>0</td>\n",
       "      <td>34</td>\n",
       "      <td>30</td>\n",
       "      <td>232</td>\n",
       "      <td>NaN</td>\n",
       "    </tr>\n",
       "    <tr>\n",
       "      <th>3</th>\n",
       "      <td>Warith Alatishe</td>\n",
       "      <td>ONT</td>\n",
       "      <td>25.0</td>\n",
       "      <td>14</td>\n",
       "      <td>7</td>\n",
       "      <td>337</td>\n",
       "      <td>48</td>\n",
       "      <td>78</td>\n",
       "      <td>0.615</td>\n",
       "      <td>0</td>\n",
       "      <td>...</td>\n",
       "      <td>47</td>\n",
       "      <td>57</td>\n",
       "      <td>104</td>\n",
       "      <td>14</td>\n",
       "      <td>16</td>\n",
       "      <td>28</td>\n",
       "      <td>12</td>\n",
       "      <td>47</td>\n",
       "      <td>102</td>\n",
       "      <td>NaN</td>\n",
       "    </tr>\n",
       "    <tr>\n",
       "      <th>4</th>\n",
       "      <td>Ty-Shon Alexander</td>\n",
       "      <td>GBO</td>\n",
       "      <td>24.0</td>\n",
       "      <td>16</td>\n",
       "      <td>0</td>\n",
       "      <td>257</td>\n",
       "      <td>39</td>\n",
       "      <td>77</td>\n",
       "      <td>0.506</td>\n",
       "      <td>27</td>\n",
       "      <td>...</td>\n",
       "      <td>2</td>\n",
       "      <td>29</td>\n",
       "      <td>31</td>\n",
       "      <td>23</td>\n",
       "      <td>5</td>\n",
       "      <td>3</td>\n",
       "      <td>17</td>\n",
       "      <td>10</td>\n",
       "      <td>112</td>\n",
       "      <td>NaN</td>\n",
       "    </tr>\n",
       "    <tr>\n",
       "      <th>...</th>\n",
       "      <td>...</td>\n",
       "      <td>...</td>\n",
       "      <td>...</td>\n",
       "      <td>...</td>\n",
       "      <td>...</td>\n",
       "      <td>...</td>\n",
       "      <td>...</td>\n",
       "      <td>...</td>\n",
       "      <td>...</td>\n",
       "      <td>...</td>\n",
       "      <td>...</td>\n",
       "      <td>...</td>\n",
       "      <td>...</td>\n",
       "      <td>...</td>\n",
       "      <td>...</td>\n",
       "      <td>...</td>\n",
       "      <td>...</td>\n",
       "      <td>...</td>\n",
       "      <td>...</td>\n",
       "      <td>...</td>\n",
       "      <td>...</td>\n",
       "    </tr>\n",
       "    <tr>\n",
       "      <th>2371</th>\n",
       "      <td>Karim Shabazz</td>\n",
       "      <td>CHS</td>\n",
       "      <td>25.0</td>\n",
       "      <td>1</td>\n",
       "      <td>1</td>\n",
       "      <td>42</td>\n",
       "      <td>2</td>\n",
       "      <td>6</td>\n",
       "      <td>0.333</td>\n",
       "      <td>0</td>\n",
       "      <td>...</td>\n",
       "      <td>4</td>\n",
       "      <td>2</td>\n",
       "      <td>6</td>\n",
       "      <td>3</td>\n",
       "      <td>3</td>\n",
       "      <td>1</td>\n",
       "      <td>2</td>\n",
       "      <td>0</td>\n",
       "      <td>7</td>\n",
       "      <td>NaN</td>\n",
       "    </tr>\n",
       "    <tr>\n",
       "      <th>2372</th>\n",
       "      <td>Greg Stevenson</td>\n",
       "      <td>ASH</td>\n",
       "      <td>25.0</td>\n",
       "      <td>2</td>\n",
       "      <td>2</td>\n",
       "      <td>57</td>\n",
       "      <td>9</td>\n",
       "      <td>16</td>\n",
       "      <td>0.563</td>\n",
       "      <td>0</td>\n",
       "      <td>...</td>\n",
       "      <td>6</td>\n",
       "      <td>11</td>\n",
       "      <td>17</td>\n",
       "      <td>4</td>\n",
       "      <td>2</td>\n",
       "      <td>2</td>\n",
       "      <td>2</td>\n",
       "      <td>3</td>\n",
       "      <td>19</td>\n",
       "      <td>NaN</td>\n",
       "    </tr>\n",
       "    <tr>\n",
       "      <th>2373</th>\n",
       "      <td>Leonard Stokes</td>\n",
       "      <td>ASH</td>\n",
       "      <td>23.0</td>\n",
       "      <td>2</td>\n",
       "      <td>0</td>\n",
       "      <td>43</td>\n",
       "      <td>5</td>\n",
       "      <td>12</td>\n",
       "      <td>0.417</td>\n",
       "      <td>0</td>\n",
       "      <td>...</td>\n",
       "      <td>0</td>\n",
       "      <td>5</td>\n",
       "      <td>5</td>\n",
       "      <td>4</td>\n",
       "      <td>4</td>\n",
       "      <td>0</td>\n",
       "      <td>2</td>\n",
       "      <td>3</td>\n",
       "      <td>14</td>\n",
       "      <td>NaN</td>\n",
       "    </tr>\n",
       "    <tr>\n",
       "      <th>2374</th>\n",
       "      <td>Eric Taylor</td>\n",
       "      <td>FAY</td>\n",
       "      <td>27.0</td>\n",
       "      <td>1</td>\n",
       "      <td>0</td>\n",
       "      <td>28</td>\n",
       "      <td>4</td>\n",
       "      <td>6</td>\n",
       "      <td>0.667</td>\n",
       "      <td>0</td>\n",
       "      <td>...</td>\n",
       "      <td>0</td>\n",
       "      <td>4</td>\n",
       "      <td>4</td>\n",
       "      <td>1</td>\n",
       "      <td>4</td>\n",
       "      <td>3</td>\n",
       "      <td>0</td>\n",
       "      <td>2</td>\n",
       "      <td>9</td>\n",
       "      <td>NaN</td>\n",
       "    </tr>\n",
       "    <tr>\n",
       "      <th>2375</th>\n",
       "      <td>Ime Udoka</td>\n",
       "      <td>CHS</td>\n",
       "      <td>26.0</td>\n",
       "      <td>1</td>\n",
       "      <td>1</td>\n",
       "      <td>37</td>\n",
       "      <td>10</td>\n",
       "      <td>17</td>\n",
       "      <td>0.588</td>\n",
       "      <td>1</td>\n",
       "      <td>...</td>\n",
       "      <td>3</td>\n",
       "      <td>9</td>\n",
       "      <td>12</td>\n",
       "      <td>2</td>\n",
       "      <td>5</td>\n",
       "      <td>2</td>\n",
       "      <td>0</td>\n",
       "      <td>2</td>\n",
       "      <td>28</td>\n",
       "      <td>NaN</td>\n",
       "    </tr>\n",
       "  </tbody>\n",
       "</table>\n",
       "<p>2376 rows × 29 columns</p>\n",
       "</div>"
      ],
      "text/plain": [
       "                 Player   Tm   Age   G  GS   MP  FG  FGA    FG%  3P  ...  ORB  \\\n",
       "0           Efe Abogidi  GLI  28.0   4   0   48   6   14  0.429   0  ...    3   \n",
       "1          Jalen Adaway  AUS  27.0  11   2  234  26   61  0.426   7  ...    7   \n",
       "2          James Akinjo  WES  31.0  15   5  448  90  195  0.462  28  ...    4   \n",
       "3       Warith Alatishe  ONT  25.0  14   7  337  48   78  0.615   0  ...   47   \n",
       "4     Ty-Shon Alexander  GBO  24.0  16   0  257  39   77  0.506  27  ...    2   \n",
       "...                 ...  ...   ...  ..  ..  ...  ..  ...    ...  ..  ...  ...   \n",
       "2371      Karim Shabazz  CHS  25.0   1   1   42   2    6  0.333   0  ...    4   \n",
       "2372     Greg Stevenson  ASH  25.0   2   2   57   9   16  0.563   0  ...    6   \n",
       "2373     Leonard Stokes  ASH  23.0   2   0   43   5   12  0.417   0  ...    0   \n",
       "2374        Eric Taylor  FAY  27.0   1   0   28   4    6  0.667   0  ...    0   \n",
       "2375          Ime Udoka  CHS  26.0   1   1   37  10   17  0.588   1  ...    3   \n",
       "\n",
       "      DRB  TRB  AST  STL  BLK  TOV  PF  PTS  Unnamed: 28  \n",
       "0      10   13    4    0    0    3  10   12          NaN  \n",
       "1      16   23   11    4    4    3  16   63          NaN  \n",
       "2      46   50  101   20    0   34  30  232          NaN  \n",
       "3      57  104   14   16   28   12  47  102          NaN  \n",
       "4      29   31   23    5    3   17  10  112          NaN  \n",
       "...   ...  ...  ...  ...  ...  ...  ..  ...          ...  \n",
       "2371    2    6    3    3    1    2   0    7          NaN  \n",
       "2372   11   17    4    2    2    2   3   19          NaN  \n",
       "2373    5    5    4    4    0    2   3   14          NaN  \n",
       "2374    4    4    1    4    3    0   2    9          NaN  \n",
       "2375    9   12    2    5    2    0   2   28          NaN  \n",
       "\n",
       "[2376 rows x 29 columns]"
      ]
     },
     "execution_count": 29,
     "metadata": {},
     "output_type": "execute_result"
    }
   ],
   "source": [
    "df_ps_w_cleaned\n"
   ]
  },
  {
   "cell_type": "code",
   "execution_count": null,
   "id": "ec9ba19f",
   "metadata": {},
   "outputs": [],
   "source": []
  }
 ],
 "metadata": {
  "kernelspec": {
   "display_name": "Python 3 (ipykernel)",
   "language": "python",
   "name": "python3"
  },
  "language_info": {
   "codemirror_mode": {
    "name": "ipython",
    "version": 3
   },
   "file_extension": ".py",
   "mimetype": "text/x-python",
   "name": "python",
   "nbconvert_exporter": "python",
   "pygments_lexer": "ipython3",
   "version": "3.9.12"
  }
 },
 "nbformat": 4,
 "nbformat_minor": 5
}
